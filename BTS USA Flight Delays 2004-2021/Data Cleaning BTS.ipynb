{
 "cells": [
  {
   "cell_type": "markdown",
   "id": "insured-energy",
   "metadata": {},
   "source": [
    "# USA Flight Delays: Data Overview\n",
    "Format: A data frame with 21 columns\n",
    "\n",
    "- <b>year</b>: Year data collected\n",
    "\n",
    "- <b>month</b>: Numeric representation of the month\n",
    "\n",
    "- <b>carrier</b>: Airline Carrier abbreviation\n",
    "\n",
    "- <b>carrier_name</b>: Airline Carrier Name\n",
    "\n",
    "- <b>airport</b>: Airport code\n",
    "\n",
    "- <b>airport_name</b>: Name of airport\n",
    "\n",
    "- <b>arr_flights</b>: Number of flights arriving at airport\n",
    "\n",
    "- <b>arr_del15</b>: Number of flights more than 15 minutes late\n",
    "\n",
    "- <b>carrier_ct</b>: Number of flights delayed due to air carrier. (e.g. no crew)\n",
    "\n",
    "- <b>weather_ct</b>: Number of flights delayed due to weather\n",
    "\n",
    "- <b>nas_ct</b>: Number of flights delayed due to National Aviation System (e.g. heavy air traffic)\n",
    "\n",
    "- <b>security_ct</b>: Number of flights canceled due to a security breach\n",
    "\n",
    "- <b>late_aircraft_ct</b>: Number of flights delayed as a result of another flight on the same aircraft delayed\n",
    "\n",
    "- <b>arr_cancelled</b>: Number of cancelled flights\n",
    "\n",
    "- <b>arr_diverted</b>: Number of flights that were diverted\n",
    "\n",
    "- <b>arr_delay</b>: Total time (minutes) of delayed flight\n",
    "\n",
    "- <b>carrier_delay</b>: Total time (minutes) of delay due to air carrier\n",
    "\n",
    "- <b>weather_delay</b>: Total time (minutes) of delay due to inclement weather\n",
    "\n",
    "- <b>nas_delay</b>: Total time (minutes) of delay due to National Aviation System\n",
    "\n",
    "- <b>security_delay</b>: Total time (minutes) of delay as a result of a security issue\n",
    "\n",
    "- <b>late_aircraft_delay</b>: Total time (minutes) of delay flights as a result of a previous flight on the same airplane being late.\n",
    "\n",
    "Data downloaded from Bureau of Transportation Statistics:  \n",
    "https://www.transtats.bts.gov/OT_Delay/OT_DelayCause1.asp\n",
    "\n",
    "- As of 2023.01.25, the latest data available is October 2022.  \n",
    "- To keep quarter and year comparisons consistent, we will use data from Jan 2004 to Dec 2021.\n",
    "- Only airports classified as \"Major Airport\" by BTS will be added to this analysis."
   ]
  },
  {
   "cell_type": "code",
   "execution_count": 1,
   "id": "integrated-ambassador",
   "metadata": {},
   "outputs": [],
   "source": [
    "import numpy as np\n",
    "import pandas as pd\n",
    "# import math # using math.ceil() instead of round() to round all numbers up; round() can round down"
   ]
  },
  {
   "cell_type": "code",
   "execution_count": 2,
   "id": "downtown-breathing",
   "metadata": {
    "scrolled": false
   },
   "outputs": [
    {
     "data": {
      "text/html": [
       "<div>\n",
       "<style scoped>\n",
       "    .dataframe tbody tr th:only-of-type {\n",
       "        vertical-align: middle;\n",
       "    }\n",
       "\n",
       "    .dataframe tbody tr th {\n",
       "        vertical-align: top;\n",
       "    }\n",
       "\n",
       "    .dataframe thead th {\n",
       "        text-align: right;\n",
       "    }\n",
       "</style>\n",
       "<table border=\"1\" class=\"dataframe\">\n",
       "  <thead>\n",
       "    <tr style=\"text-align: right;\">\n",
       "      <th></th>\n",
       "      <th>year</th>\n",
       "      <th>month</th>\n",
       "      <th>carrier</th>\n",
       "      <th>carrier_name</th>\n",
       "      <th>airport</th>\n",
       "      <th>airport_name</th>\n",
       "      <th>arr_flights</th>\n",
       "      <th>arr_del15</th>\n",
       "      <th>carrier_ct</th>\n",
       "      <th>weather_ct</th>\n",
       "      <th>...</th>\n",
       "      <th>security_ct</th>\n",
       "      <th>late_aircraft_ct</th>\n",
       "      <th>arr_cancelled</th>\n",
       "      <th>arr_diverted</th>\n",
       "      <th>arr_delay</th>\n",
       "      <th>carrier_delay</th>\n",
       "      <th>weather_delay</th>\n",
       "      <th>nas_delay</th>\n",
       "      <th>security_delay</th>\n",
       "      <th>late_aircraft_delay</th>\n",
       "    </tr>\n",
       "  </thead>\n",
       "  <tbody>\n",
       "    <tr>\n",
       "      <th>0</th>\n",
       "      <td>2021</td>\n",
       "      <td>12</td>\n",
       "      <td>AA</td>\n",
       "      <td>American Airlines Inc.</td>\n",
       "      <td>SFO</td>\n",
       "      <td>San Francisco, CA: San Francisco International</td>\n",
       "      <td>730.0</td>\n",
       "      <td>170.0</td>\n",
       "      <td>56.55</td>\n",
       "      <td>0.93</td>\n",
       "      <td>...</td>\n",
       "      <td>0.19</td>\n",
       "      <td>22.39</td>\n",
       "      <td>2.0</td>\n",
       "      <td>5.0</td>\n",
       "      <td>8295.0</td>\n",
       "      <td>3415.0</td>\n",
       "      <td>42.0</td>\n",
       "      <td>2867.0</td>\n",
       "      <td>21.0</td>\n",
       "      <td>1950.0</td>\n",
       "    </tr>\n",
       "    <tr>\n",
       "      <th>1</th>\n",
       "      <td>2021</td>\n",
       "      <td>12</td>\n",
       "      <td>AS</td>\n",
       "      <td>Alaska Airlines Inc.</td>\n",
       "      <td>SFO</td>\n",
       "      <td>San Francisco, CA: San Francisco International</td>\n",
       "      <td>988.0</td>\n",
       "      <td>260.0</td>\n",
       "      <td>65.37</td>\n",
       "      <td>6.38</td>\n",
       "      <td>...</td>\n",
       "      <td>5.22</td>\n",
       "      <td>70.59</td>\n",
       "      <td>55.0</td>\n",
       "      <td>5.0</td>\n",
       "      <td>15472.0</td>\n",
       "      <td>4671.0</td>\n",
       "      <td>452.0</td>\n",
       "      <td>4125.0</td>\n",
       "      <td>325.0</td>\n",
       "      <td>5899.0</td>\n",
       "    </tr>\n",
       "  </tbody>\n",
       "</table>\n",
       "<p>2 rows × 21 columns</p>\n",
       "</div>"
      ],
      "text/plain": [
       "   year  month carrier            carrier_name airport  \\\n",
       "0  2021     12      AA  American Airlines Inc.     SFO   \n",
       "1  2021     12      AS    Alaska Airlines Inc.     SFO   \n",
       "\n",
       "                                     airport_name  arr_flights  arr_del15  \\\n",
       "0  San Francisco, CA: San Francisco International        730.0      170.0   \n",
       "1  San Francisco, CA: San Francisco International        988.0      260.0   \n",
       "\n",
       "   carrier_ct  weather_ct  ...  security_ct  late_aircraft_ct  arr_cancelled  \\\n",
       "0       56.55        0.93  ...         0.19             22.39            2.0   \n",
       "1       65.37        6.38  ...         5.22             70.59           55.0   \n",
       "\n",
       "   arr_diverted  arr_delay  carrier_delay  weather_delay  nas_delay  \\\n",
       "0           5.0     8295.0         3415.0           42.0     2867.0   \n",
       "1           5.0    15472.0         4671.0          452.0     4125.0   \n",
       "\n",
       "   security_delay  late_aircraft_delay  \n",
       "0            21.0               1950.0  \n",
       "1           325.0               5899.0  \n",
       "\n",
       "[2 rows x 21 columns]"
      ]
     },
     "execution_count": 2,
     "metadata": {},
     "output_type": "execute_result"
    }
   ],
   "source": [
    "sfo = pd.read_csv(\"~/Downloads/BTS_Airline_Delays/Data/SFO Airline_Delay_Cause 2004.01 - 2021.12.csv\")\n",
    "sfo.head(2)"
   ]
  },
  {
   "cell_type": "code",
   "execution_count": 3,
   "id": "indonesian-preserve",
   "metadata": {
    "scrolled": true
   },
   "outputs": [
    {
     "data": {
      "text/plain": [
       "Index(['year', 'month', 'carrier', 'carrier_name', 'airport', 'airport_name',\n",
       "       'arr_flights', 'arr_del15', 'carrier_ct', 'weather_ct', 'nas_ct',\n",
       "       'security_ct', 'late_aircraft_ct', 'arr_cancelled', 'arr_diverted',\n",
       "       'arr_delay', 'carrier_delay', 'weather_delay', 'nas_delay',\n",
       "       'security_delay', 'late_aircraft_delay'],\n",
       "      dtype='object')"
      ]
     },
     "execution_count": 3,
     "metadata": {},
     "output_type": "execute_result"
    }
   ],
   "source": [
    "sfo.columns"
   ]
  },
  {
   "cell_type": "markdown",
   "id": "520caa26",
   "metadata": {},
   "source": [
    "### Union data from multiple airports into one dataset"
   ]
  },
  {
   "cell_type": "code",
   "execution_count": 4,
   "id": "bccd67ee",
   "metadata": {},
   "outputs": [],
   "source": [
    "atl = pd.read_csv(\"~/Downloads/BTS_Airline_Delays/Data/ATL Airline_Delay_Cause 2004.01 - 2021.12.csv\")\n",
    "bna = pd.read_csv(\"~/Downloads/BTS_Airline_Delays/Data/BNA Airline_Delay_Cause 2004.01 - 2021.12.csv\")\n",
    "bos = pd.read_csv(\"~/Downloads/BTS_Airline_Delays/Data/BOS Airline_Delay_Cause 2004.01 - 2021.12.csv\")\n",
    "bwi = pd.read_csv(\"~/Downloads/BTS_Airline_Delays/Data/BWI Airline_Delay_Cause 2004.01 - 2021.12.csv\")\n",
    "clt = pd.read_csv(\"~/Downloads/BTS_Airline_Delays/Data/CLT Airline_Delay_Cause 2004.01 - 2021.12.csv\")\n",
    "dal = pd.read_csv(\"~/Downloads/BTS_Airline_Delays/Data/DAL Airline_Delay_Cause 2004.01 - 2021.12.csv\")\n",
    "dca = pd.read_csv(\"~/Downloads/BTS_Airline_Delays/Data/DCA Airline_Delay_Cause 2004.01 - 2021.12.csv\")\n",
    "den = pd.read_csv(\"~/Downloads/BTS_Airline_Delays/Data/DEN Airline_Delay_Cause 2004.01 - 2021.12.csv\")\n",
    "dfw = pd.read_csv(\"~/Downloads/BTS_Airline_Delays/Data/DFW Airline_Delay_Cause 2004.01 - 2021.12.csv\")\n",
    "dtw = pd.read_csv(\"~/Downloads/BTS_Airline_Delays/Data/DTW Airline_Delay_Cause 2004.01 - 2021.12.csv\")\n",
    "ewr = pd.read_csv(\"~/Downloads/BTS_Airline_Delays/Data/EWR Airline_Delay_Cause 2004.01 - 2021.12.csv\")\n",
    "fll = pd.read_csv(\"~/Downloads/BTS_Airline_Delays/Data/FLL Airline_Delay_Cause 2004.01 - 2021.12.csv\")\n",
    "iad = pd.read_csv(\"~/Downloads/BTS_Airline_Delays/Data/IAD Airline_Delay_Cause 2004.01 - 2021.12.csv\")\n",
    "iah = pd.read_csv(\"~/Downloads/BTS_Airline_Delays/Data/IAH Airline_Delay_Cause 2004.01 - 2021.12.csv\")\n",
    "jfk = pd.read_csv(\"~/Downloads/BTS_Airline_Delays/Data/JFK Airline_Delay_Cause 2004.01 - 2021.12.csv\")\n",
    "las = pd.read_csv(\"~/Downloads/BTS_Airline_Delays/Data/LAS Airline_Delay_Cause 2004.01 - 2021.12.csv\")\n",
    "lax = pd.read_csv(\"~/Downloads/BTS_Airline_Delays/Data/LAX Airline_Delay_Cause 2004.01 - 2021.12.csv\")\n",
    "lga = pd.read_csv(\"~/Downloads/BTS_Airline_Delays/Data/LGA Airline_Delay_Cause 2004.01 - 2021.12.csv\")\n",
    "mco = pd.read_csv(\"~/Downloads/BTS_Airline_Delays/Data/MCO Airline_Delay_Cause 2004.01 - 2021.12.csv\")\n",
    "mdw = pd.read_csv(\"~/Downloads/BTS_Airline_Delays/Data/MDW Airline_Delay_Cause 2004.01 - 2021.12.csv\")\n",
    "mia = pd.read_csv(\"~/Downloads/BTS_Airline_Delays/Data/MIA Airline_Delay_Cause 2004.01 - 2021.12.csv\")\n",
    "msp = pd.read_csv(\"~/Downloads/BTS_Airline_Delays/Data/MSP Airline_Delay_Cause 2004.01 - 2021.12.csv\")\n",
    "oord = pd.read_csv(\"~/Downloads/BTS_Airline_Delays/Data/ORD Airline_Delay_Cause 2004.01 - 2021.12.csv\")\n",
    "phl = pd.read_csv(\"~/Downloads/BTS_Airline_Delays/Data/PHL Airline_Delay_Cause 2004.01 - 2021.12.csv\")\n",
    "phx = pd.read_csv(\"~/Downloads/BTS_Airline_Delays/Data/PHX Airline_Delay_Cause 2004.01 - 2021.12.csv\")\n",
    "san = pd.read_csv(\"~/Downloads/BTS_Airline_Delays/Data/SAN Airline_Delay_Cause 2004.01 - 2021.12.csv\")\n",
    "sea = pd.read_csv(\"~/Downloads/BTS_Airline_Delays/Data/SEA Airline_Delay_Cause 2004.01 - 2021.12.csv\")\n",
    "slc = pd.read_csv(\"~/Downloads/BTS_Airline_Delays/Data/SLC Airline_Delay_Cause 2004.01 - 2021.12.csv\")\n",
    "tpa = pd.read_csv(\"~/Downloads/BTS_Airline_Delays/Data/TPA Airline_Delay_Cause 2004.01 - 2021.12.csv\")\n",
    "hnl = pd.read_csv(\"~/Downloads/BTS_Airline_Delays/Data/HNL Airline_Delay_Cause 2004.01 - 2021.12.csv\")\n"
   ]
  },
  {
   "cell_type": "code",
   "execution_count": 5,
   "id": "cf2db38c",
   "metadata": {},
   "outputs": [],
   "source": [
    "# Combine all airports into one dataset\n",
    "df = pd.concat(\n",
    "    [sfo,lax,atl,bna,bos,bwi,clt,dal,dca,den,dfw,dtw,ewr,fll,iad,iah,\n",
    "     jfk,las,lax,lga,mco,mdw,mia,msp,oord,phl,phx,san,sea,slc,tpa,hnl]\n",
    "        ).reset_index().drop(columns=['index'])\n"
   ]
  },
  {
   "cell_type": "code",
   "execution_count": 6,
   "id": "02563f25",
   "metadata": {},
   "outputs": [],
   "source": [
    "# year + month + day in one column, so Tableau can recognize date\n",
    "df['YearMonth'] = df.year.astype(str) + \" \" + df.month.astype(str) + \" \" + str(28)\n",
    "\n",
    "# add Quarters\n",
    "df['Quarter'] = \"Q1\"\n",
    "df.loc[df.month.isin([1,2,3]), 'Quarter'] = \"Q1\"\n",
    "df.loc[df.month.isin([4,5,6]), 'Quarter'] = \"Q2\"\n",
    "df.loc[df.month.isin([7,8,9]), 'Quarter'] = \"Q3\"\n",
    "df.loc[df.month.isin([10,11,12]), 'Quarter'] = \"Q4\""
   ]
  },
  {
   "cell_type": "markdown",
   "id": "c1c3661b",
   "metadata": {},
   "source": [
    "# Airport Locations Mapping\n",
    "- Add Latitude & Longitude\n",
    "- Location data from: https://data.humdata.org/dataset/ourairports-usa"
   ]
  },
  {
   "cell_type": "code",
   "execution_count": 7,
   "id": "47d7745a",
   "metadata": {},
   "outputs": [],
   "source": [
    "LL = pd.read_csv(\"~/Downloads/BTS_Airline_Delays/Data/LatLong_us-airports.csv\",\n",
    "                 usecols=['name','latitude_deg','longitude_deg','iata_code','local_code'])\n",
    "# local code == FAA 3-letter code.  iata code == IATA code"
   ]
  },
  {
   "cell_type": "code",
   "execution_count": 8,
   "id": "08e11950",
   "metadata": {},
   "outputs": [
    {
     "data": {
      "text/html": [
       "<div>\n",
       "<style scoped>\n",
       "    .dataframe tbody tr th:only-of-type {\n",
       "        vertical-align: middle;\n",
       "    }\n",
       "\n",
       "    .dataframe tbody tr th {\n",
       "        vertical-align: top;\n",
       "    }\n",
       "\n",
       "    .dataframe thead th {\n",
       "        text-align: right;\n",
       "    }\n",
       "</style>\n",
       "<table border=\"1\" class=\"dataframe\">\n",
       "  <thead>\n",
       "    <tr style=\"text-align: right;\">\n",
       "      <th></th>\n",
       "      <th>name</th>\n",
       "      <th>latitude_deg</th>\n",
       "      <th>longitude_deg</th>\n",
       "      <th>iata_code</th>\n",
       "      <th>local_code</th>\n",
       "    </tr>\n",
       "  </thead>\n",
       "  <tbody>\n",
       "    <tr>\n",
       "      <th>0</th>\n",
       "      <td>#loc +airport +name</td>\n",
       "      <td>#geo +lat</td>\n",
       "      <td>#geo +lon</td>\n",
       "      <td>#loc +airport +code +iata</td>\n",
       "      <td>#loc +airport +code +local</td>\n",
       "    </tr>\n",
       "    <tr>\n",
       "      <th>1</th>\n",
       "      <td>Los Angeles International Airport</td>\n",
       "      <td>33.942501</td>\n",
       "      <td>-118.407997</td>\n",
       "      <td>LAX</td>\n",
       "      <td>LAX</td>\n",
       "    </tr>\n",
       "    <tr>\n",
       "      <th>2</th>\n",
       "      <td>Chicago O'Hare International Airport</td>\n",
       "      <td>41.9786</td>\n",
       "      <td>-87.9048</td>\n",
       "      <td>ORD</td>\n",
       "      <td>ORD</td>\n",
       "    </tr>\n",
       "  </tbody>\n",
       "</table>\n",
       "</div>"
      ],
      "text/plain": [
       "                                   name latitude_deg longitude_deg  \\\n",
       "0                   #loc +airport +name    #geo +lat     #geo +lon   \n",
       "1     Los Angeles International Airport    33.942501   -118.407997   \n",
       "2  Chicago O'Hare International Airport      41.9786      -87.9048   \n",
       "\n",
       "                   iata_code                  local_code  \n",
       "0  #loc +airport +code +iata  #loc +airport +code +local  \n",
       "1                        LAX                         LAX  \n",
       "2                        ORD                         ORD  "
      ]
     },
     "execution_count": 8,
     "metadata": {},
     "output_type": "execute_result"
    }
   ],
   "source": [
    "LL.head(3)"
   ]
  },
  {
   "cell_type": "code",
   "execution_count": 9,
   "id": "4aaab603",
   "metadata": {},
   "outputs": [],
   "source": [
    "# assign locations to each airport using Left Join\n",
    "df = df.merge(right=LL[['name','latitude_deg','longitude_deg','local_code']].rename(columns={'local_code':'airport'}),\n",
    "                                                                             how='left', on='airport')"
   ]
  },
  {
   "cell_type": "markdown",
   "id": "74756290",
   "metadata": {},
   "source": [
    "check to see if every airport has a location assigned to it"
   ]
  },
  {
   "cell_type": "code",
   "execution_count": 10,
   "id": "38c3a7db",
   "metadata": {},
   "outputs": [
    {
     "data": {
      "text/plain": [
       "airport  latitude_deg        longitude_deg     \n",
       "ATL      33.6367             -84.428101            2785\n",
       "BNA      36.1245002746582    -86.6781997680664     2524\n",
       "BOS      42.3643             -71.005203            2747\n",
       "BWI      39.1754             -76.668297            2543\n",
       "CLT      35.2140007019043    -80.94309997558594    2459\n",
       "DAL      32.847099           -96.851799             689\n",
       "DCA      38.8521             -77.037697            2775\n",
       "DEN      39.861698150635     -104.672996521        2720\n",
       "DFW      32.896801           -97.038002            2736\n",
       "DTW      42.212398529052734  -83.35340118408203    2869\n",
       "EWR      40.692501           -74.168701            2558\n",
       "FLL      26.072599           -80.152702            2221\n",
       "HNL      21.32062            -157.924228           1531\n",
       "IAD      38.9445             -77.455803            2489\n",
       "IAH      29.984399795532227  -95.34140014648438    2414\n",
       "JFK      40.639447           -73.779317            1922\n",
       "LAS      36.083361           -115.151817           2830\n",
       "LAX      33.942501           -118.407997           5696\n",
       "LGA      40.777199           -73.872597            2718\n",
       "MCO      28.429399490356445  -81.30899810791016    2489\n",
       "MDW      41.785999           -87.752403            1275\n",
       "MIA      25.79319953918457   -80.29060363769531    1851\n",
       "MSP      44.882              -93.221802            2705\n",
       "ORD      41.9786             -87.9048              2650\n",
       "PHL      39.87189865112305   -75.24109649658203    2691\n",
       "PHX      33.435302           -112.005905           2783\n",
       "SAN      32.7336006165       -117.190002441        2754\n",
       "SEA      47.449162           -122.311134           2545\n",
       "SFO      37.61899948120117   -122.375              2575\n",
       "SLC      40.785749           -111.979746           2357\n",
       "TPA      27.975500106811523  -82.533203125         2254\n",
       "Name: year, dtype: int64"
      ]
     },
     "execution_count": 10,
     "metadata": {},
     "output_type": "execute_result"
    }
   ],
   "source": [
    "df.groupby(['airport','latitude_deg','longitude_deg']).count()['year']"
   ]
  },
  {
   "cell_type": "markdown",
   "id": "59c36b31",
   "metadata": {},
   "source": [
    "# Data Cleaning & Calculations"
   ]
  },
  {
   "cell_type": "markdown",
   "id": "encouraging-homeless",
   "metadata": {},
   "source": [
    "## Average Minutes Delayed\n",
    "- One column per delay type"
   ]
  },
  {
   "cell_type": "code",
   "execution_count": 11,
   "id": "romantic-marking",
   "metadata": {},
   "outputs": [],
   "source": [
    "df['avg_weather'] = df.weather_delay / df.weather_ct # avg minutes delayed per flight\n",
    "df['avg_carrier'] = df.carrier_delay / df.carrier_ct\n",
    "df['avg_nas'] = df.nas_delay / df.nas_ct\n",
    "df['avg_security'] = df.security_delay / df.security_ct\n",
    "df['avg_late_aircraft'] = df.late_aircraft_delay / df.late_aircraft_ct\n",
    "df['avg_delay'] = df.arr_delay / df.arr_flights"
   ]
  },
  {
   "cell_type": "markdown",
   "id": "dressed-chain",
   "metadata": {},
   "source": [
    "### Make new columns showing previous year's data from same airport, carrier, and month\n",
    "- used to show change from previous year in dashboard\n",
    "- self join on previous year"
   ]
  },
  {
   "cell_type": "code",
   "execution_count": 12,
   "id": "d26a1e3f",
   "metadata": {},
   "outputs": [],
   "source": [
    "# initialize new columns\n",
    "df2 = df.rename(columns={'year':'year_pvyr'})\n",
    "df['year_pvyr'] = df.year - 1"
   ]
  },
  {
   "cell_type": "code",
   "execution_count": 13,
   "id": "7723092d",
   "metadata": {},
   "outputs": [],
   "source": [
    "# self join\n",
    "df3 = df.merge(right=df2, how='left',on=['year_pvyr','month','airport','carrier'])"
   ]
  },
  {
   "cell_type": "code",
   "execution_count": 14,
   "id": "c12d4f50",
   "metadata": {},
   "outputs": [
    {
     "data": {
      "text/plain": [
       "Index(['year', 'month', 'carrier', 'carrier_name', 'airport', 'airport_name',\n",
       "       'arr_flights_x', 'arr_del15_x', 'carrier_ct_x', 'weather_ct_x',\n",
       "       'nas_ct_x', 'security_ct_x', 'late_aircraft_ct_x', 'arr_cancelled_x',\n",
       "       'arr_diverted_x', 'arr_delay_x', 'carrier_delay_x', 'weather_delay_x',\n",
       "       'nas_delay_x', 'security_delay_x', 'late_aircraft_delay_x',\n",
       "       'YearMonth_x', 'Quarter_x', 'name_x', 'latitude_deg', 'longitude_deg',\n",
       "       'avg_weather_x', 'avg_carrier_x', 'avg_nas_x', 'avg_security_x',\n",
       "       'avg_late_aircraft_x', 'avg_delay_x', 'year_pvyr', 'arr_flights_y',\n",
       "       'arr_del15_y', 'carrier_ct_y', 'weather_ct_y', 'nas_ct_y',\n",
       "       'security_ct_y', 'late_aircraft_ct_y', 'arr_cancelled_y',\n",
       "       'arr_diverted_y', 'arr_delay_y', 'carrier_delay_y', 'weather_delay_y',\n",
       "       'nas_delay_y', 'security_delay_y', 'late_aircraft_delay_y',\n",
       "       'YearMonth_y', 'Quarter_y', 'name_y', 'avg_weather_y', 'avg_carrier_y',\n",
       "       'avg_nas_y', 'avg_security_y', 'avg_late_aircraft_y', 'avg_delay_y'],\n",
       "      dtype='object')"
      ]
     },
     "execution_count": 14,
     "metadata": {},
     "output_type": "execute_result"
    }
   ],
   "source": [
    "df3.drop(columns=['carrier_name_y','airport_name_y','latitude_deg_y','longitude_deg_y'],inplace=True)\n",
    "df3.rename(columns={'carrier_name_x':'carrier_name','airport_name_x':'airport_name',\n",
    "                    'latitude_deg_x':'latitude_deg','longitude_deg_x':'longitude_deg'},inplace=True)\n",
    "\n",
    "df3.columns  # X columns are from left table.  Y columns are from right table. Columns without X/Y are unique keys"
   ]
  },
  {
   "cell_type": "markdown",
   "id": "e4627b29",
   "metadata": {},
   "source": [
    "### Checking success of self-join operation\n",
    "- <b>avg_weather_x</b> = weather of current year\n",
    "- <b>avg_weather_y</b> = weather of previous year"
   ]
  },
  {
   "cell_type": "code",
   "execution_count": 15,
   "id": "8ed869da",
   "metadata": {},
   "outputs": [
    {
     "data": {
      "text/html": [
       "<div>\n",
       "<style scoped>\n",
       "    .dataframe tbody tr th:only-of-type {\n",
       "        vertical-align: middle;\n",
       "    }\n",
       "\n",
       "    .dataframe tbody tr th {\n",
       "        vertical-align: top;\n",
       "    }\n",
       "\n",
       "    .dataframe thead th {\n",
       "        text-align: right;\n",
       "    }\n",
       "</style>\n",
       "<table border=\"1\" class=\"dataframe\">\n",
       "  <thead>\n",
       "    <tr style=\"text-align: right;\">\n",
       "      <th></th>\n",
       "      <th>253</th>\n",
       "      <th>361</th>\n",
       "      <th>471</th>\n",
       "      <th>594</th>\n",
       "      <th>714</th>\n",
       "    </tr>\n",
       "  </thead>\n",
       "  <tbody>\n",
       "    <tr>\n",
       "      <th>year</th>\n",
       "      <td>2019</td>\n",
       "      <td>2018</td>\n",
       "      <td>2017</td>\n",
       "      <td>2016</td>\n",
       "      <td>2015</td>\n",
       "    </tr>\n",
       "    <tr>\n",
       "      <th>year_pvyr</th>\n",
       "      <td>2018</td>\n",
       "      <td>2017</td>\n",
       "      <td>2016</td>\n",
       "      <td>2015</td>\n",
       "      <td>2014</td>\n",
       "    </tr>\n",
       "    <tr>\n",
       "      <th>month</th>\n",
       "      <td>10</td>\n",
       "      <td>10</td>\n",
       "      <td>10</td>\n",
       "      <td>10</td>\n",
       "      <td>10</td>\n",
       "    </tr>\n",
       "    <tr>\n",
       "      <th>carrier</th>\n",
       "      <td>UA</td>\n",
       "      <td>UA</td>\n",
       "      <td>UA</td>\n",
       "      <td>UA</td>\n",
       "      <td>UA</td>\n",
       "    </tr>\n",
       "    <tr>\n",
       "      <th>airport</th>\n",
       "      <td>SFO</td>\n",
       "      <td>SFO</td>\n",
       "      <td>SFO</td>\n",
       "      <td>SFO</td>\n",
       "      <td>SFO</td>\n",
       "    </tr>\n",
       "    <tr>\n",
       "      <th>avg_security_x</th>\n",
       "      <td>NaN</td>\n",
       "      <td>NaN</td>\n",
       "      <td>36.363636</td>\n",
       "      <td>NaN</td>\n",
       "      <td>NaN</td>\n",
       "    </tr>\n",
       "    <tr>\n",
       "      <th>avg_security_y</th>\n",
       "      <td>NaN</td>\n",
       "      <td>36.363636</td>\n",
       "      <td>NaN</td>\n",
       "      <td>NaN</td>\n",
       "      <td>NaN</td>\n",
       "    </tr>\n",
       "  </tbody>\n",
       "</table>\n",
       "</div>"
      ],
      "text/plain": [
       "                 253        361        471   594   714\n",
       "year            2019       2018       2017  2016  2015\n",
       "year_pvyr       2018       2017       2016  2015  2014\n",
       "month             10         10         10    10    10\n",
       "carrier           UA         UA         UA    UA    UA\n",
       "airport          SFO        SFO        SFO   SFO   SFO\n",
       "avg_security_x   NaN        NaN  36.363636   NaN   NaN\n",
       "avg_security_y   NaN  36.363636        NaN   NaN   NaN"
      ]
     },
     "execution_count": 15,
     "metadata": {},
     "output_type": "execute_result"
    }
   ],
   "source": [
    "# United Airlines at SFO\n",
    "df3[(df3.airport == \"SFO\") & (df3.year.isin([2019, 2018, 2017, 2016, 2015])) & (df3.carrier == 'UA') & (df3.month == 10)][['year','year_pvyr','month','carrier','airport','avg_security_x','avg_security_y']].transpose()"
   ]
  },
  {
   "cell_type": "markdown",
   "id": "263a51f1",
   "metadata": {},
   "source": [
    "### Fill Nulls\n",
    "- Assume null means no incidents occured"
   ]
  },
  {
   "cell_type": "code",
   "execution_count": 16,
   "id": "db578c97",
   "metadata": {},
   "outputs": [],
   "source": [
    "df3.fillna(value=0,inplace=True)"
   ]
  },
  {
   "cell_type": "markdown",
   "id": "bd412578",
   "metadata": {},
   "source": [
    "### Calculate Amount of change YoY"
   ]
  },
  {
   "cell_type": "code",
   "execution_count": 17,
   "id": "29f59bb0",
   "metadata": {},
   "outputs": [],
   "source": [
    "df3['avg_weather_change'] = df3.avg_weather_x - df3.avg_weather_y # avg minutes delayed per flight\n",
    "df3['avg_carrier_change'] = df3.avg_carrier_x - df3.avg_carrier_y\n",
    "df3['avg_nas_change'] = df3.avg_nas_x - df3.avg_nas_y\n",
    "df3['avg_security_change'] = df3.avg_security_x - df3.avg_security_y\n",
    "df3['avg_late_aircraft_change'] = df3.avg_late_aircraft_x - df3.avg_late_aircraft_y"
   ]
  },
  {
   "cell_type": "code",
   "execution_count": 18,
   "id": "b3b9ecb4",
   "metadata": {},
   "outputs": [
    {
     "data": {
      "text/html": [
       "<div>\n",
       "<style scoped>\n",
       "    .dataframe tbody tr th:only-of-type {\n",
       "        vertical-align: middle;\n",
       "    }\n",
       "\n",
       "    .dataframe tbody tr th {\n",
       "        vertical-align: top;\n",
       "    }\n",
       "\n",
       "    .dataframe thead th {\n",
       "        text-align: right;\n",
       "    }\n",
       "</style>\n",
       "<table border=\"1\" class=\"dataframe\">\n",
       "  <thead>\n",
       "    <tr style=\"text-align: right;\">\n",
       "      <th></th>\n",
       "      <th>airport</th>\n",
       "      <th>carrier</th>\n",
       "      <th>year</th>\n",
       "      <th>month</th>\n",
       "      <th>avg_late_aircraft_x</th>\n",
       "      <th>avg_late_aircraft_y</th>\n",
       "      <th>avg_late_aircraft_change</th>\n",
       "    </tr>\n",
       "  </thead>\n",
       "  <tbody>\n",
       "    <tr>\n",
       "      <th>0</th>\n",
       "      <td>SFO</td>\n",
       "      <td>AA</td>\n",
       "      <td>2021</td>\n",
       "      <td>12</td>\n",
       "      <td>87.092452</td>\n",
       "      <td>64.160401</td>\n",
       "      <td>22.932051</td>\n",
       "    </tr>\n",
       "    <tr>\n",
       "      <th>1</th>\n",
       "      <td>SFO</td>\n",
       "      <td>AS</td>\n",
       "      <td>2021</td>\n",
       "      <td>12</td>\n",
       "      <td>83.567077</td>\n",
       "      <td>67.000000</td>\n",
       "      <td>16.567077</td>\n",
       "    </tr>\n",
       "    <tr>\n",
       "      <th>2</th>\n",
       "      <td>SFO</td>\n",
       "      <td>B6</td>\n",
       "      <td>2021</td>\n",
       "      <td>12</td>\n",
       "      <td>78.120063</td>\n",
       "      <td>96.756757</td>\n",
       "      <td>-18.636694</td>\n",
       "    </tr>\n",
       "  </tbody>\n",
       "</table>\n",
       "</div>"
      ],
      "text/plain": [
       "  airport carrier  year  month  avg_late_aircraft_x  avg_late_aircraft_y  \\\n",
       "0     SFO      AA  2021     12            87.092452            64.160401   \n",
       "1     SFO      AS  2021     12            83.567077            67.000000   \n",
       "2     SFO      B6  2021     12            78.120063            96.756757   \n",
       "\n",
       "   avg_late_aircraft_change  \n",
       "0                 22.932051  \n",
       "1                 16.567077  \n",
       "2                -18.636694  "
      ]
     },
     "execution_count": 18,
     "metadata": {},
     "output_type": "execute_result"
    }
   ],
   "source": [
    "df3[['airport','carrier','year','month','avg_late_aircraft_x','avg_late_aircraft_y','avg_late_aircraft_change']].head(3)"
   ]
  },
  {
   "cell_type": "markdown",
   "id": "1f92d036",
   "metadata": {},
   "source": [
    "# Hub Mapping\n",
    "- Label whether airline is considered a Hub to airport"
   ]
  },
  {
   "cell_type": "code",
   "execution_count": null,
   "id": "8429e51b",
   "metadata": {},
   "outputs": [],
   "source": []
  },
  {
   "cell_type": "markdown",
   "id": "b51aff0d",
   "metadata": {},
   "source": [
    "# Export"
   ]
  },
  {
   "cell_type": "code",
   "execution_count": 19,
   "id": "spatial-toilet",
   "metadata": {},
   "outputs": [],
   "source": [
    "df3.to_csv('USA_MajorAirports_Data.csv', index=False)"
   ]
  }
 ],
 "metadata": {
  "kernelspec": {
   "display_name": "Python 3 (ipykernel)",
   "language": "python",
   "name": "python3"
  },
  "language_info": {
   "codemirror_mode": {
    "name": "ipython",
    "version": 3
   },
   "file_extension": ".py",
   "mimetype": "text/x-python",
   "name": "python",
   "nbconvert_exporter": "python",
   "pygments_lexer": "ipython3",
   "version": "3.9.12"
  }
 },
 "nbformat": 4,
 "nbformat_minor": 5
}
